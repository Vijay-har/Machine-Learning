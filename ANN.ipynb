{
  "nbformat": 4,
  "nbformat_minor": 0,
  "metadata": {
    "colab": {
      "name": "ANN.ipynb",
      "provenance": [],
      "collapsed_sections": []
    },
    "kernelspec": {
      "name": "python3",
      "display_name": "Python 3"
    },
    "language_info": {
      "name": "python"
    }
  },
  "cells": [
    {
      "cell_type": "markdown",
      "metadata": {
        "id": "jF1qSWjlVYt6"
      },
      "source": [
        "# **ARTIFICIAL NEURAL NETWORK**"
      ]
    },
    {
      "cell_type": "markdown",
      "metadata": {
        "id": "uHCLrhSpRRdR"
      },
      "source": [
        "**IMPORTING PACKAGES**"
      ]
    },
    {
      "cell_type": "code",
      "metadata": {
        "id": "Fk97WI7yQ2XR"
      },
      "source": [
        "import pandas as pd\n"
      ],
      "execution_count": 2,
      "outputs": []
    },
    {
      "cell_type": "markdown",
      "metadata": {
        "id": "YOnnDBM4RXT1"
      },
      "source": [
        "**IMPORTING DATA**"
      ]
    },
    {
      "cell_type": "code",
      "metadata": {
        "id": "ap37PdxRQ34-"
      },
      "source": [
        "df = pd.read_csv('/content/housepricedata (1).csv')"
      ],
      "execution_count": 3,
      "outputs": []
    },
    {
      "cell_type": "code",
      "metadata": {
        "colab": {
          "base_uri": "https://localhost:8080/",
          "height": 399
        },
        "id": "a5jb5MjpQ8wY",
        "outputId": "7c537bbd-a760-4cf2-d8fd-4c60d85bd4f9"
      },
      "source": [
        "df"
      ],
      "execution_count": 4,
      "outputs": [
        {
          "output_type": "execute_result",
          "data": {
            "text/html": [
              "<div>\n",
              "<style scoped>\n",
              "    .dataframe tbody tr th:only-of-type {\n",
              "        vertical-align: middle;\n",
              "    }\n",
              "\n",
              "    .dataframe tbody tr th {\n",
              "        vertical-align: top;\n",
              "    }\n",
              "\n",
              "    .dataframe thead th {\n",
              "        text-align: right;\n",
              "    }\n",
              "</style>\n",
              "<table border=\"1\" class=\"dataframe\">\n",
              "  <thead>\n",
              "    <tr style=\"text-align: right;\">\n",
              "      <th></th>\n",
              "      <th>LotArea</th>\n",
              "      <th>OverallQual</th>\n",
              "      <th>OverallCond</th>\n",
              "      <th>TotalBsmtSF</th>\n",
              "      <th>FullBath</th>\n",
              "      <th>HalfBath</th>\n",
              "      <th>BedroomAbvGr</th>\n",
              "      <th>TotRmsAbvGrd</th>\n",
              "      <th>Fireplaces</th>\n",
              "      <th>GarageArea</th>\n",
              "      <th>AboveMedianPrice</th>\n",
              "    </tr>\n",
              "  </thead>\n",
              "  <tbody>\n",
              "    <tr>\n",
              "      <th>0</th>\n",
              "      <td>8450</td>\n",
              "      <td>7</td>\n",
              "      <td>5</td>\n",
              "      <td>856</td>\n",
              "      <td>2</td>\n",
              "      <td>1</td>\n",
              "      <td>3</td>\n",
              "      <td>8</td>\n",
              "      <td>0</td>\n",
              "      <td>548</td>\n",
              "      <td>1</td>\n",
              "    </tr>\n",
              "    <tr>\n",
              "      <th>1</th>\n",
              "      <td>9600</td>\n",
              "      <td>6</td>\n",
              "      <td>8</td>\n",
              "      <td>1262</td>\n",
              "      <td>2</td>\n",
              "      <td>0</td>\n",
              "      <td>3</td>\n",
              "      <td>6</td>\n",
              "      <td>1</td>\n",
              "      <td>460</td>\n",
              "      <td>1</td>\n",
              "    </tr>\n",
              "    <tr>\n",
              "      <th>2</th>\n",
              "      <td>11250</td>\n",
              "      <td>7</td>\n",
              "      <td>5</td>\n",
              "      <td>920</td>\n",
              "      <td>2</td>\n",
              "      <td>1</td>\n",
              "      <td>3</td>\n",
              "      <td>6</td>\n",
              "      <td>1</td>\n",
              "      <td>608</td>\n",
              "      <td>1</td>\n",
              "    </tr>\n",
              "    <tr>\n",
              "      <th>3</th>\n",
              "      <td>9550</td>\n",
              "      <td>7</td>\n",
              "      <td>5</td>\n",
              "      <td>756</td>\n",
              "      <td>1</td>\n",
              "      <td>0</td>\n",
              "      <td>3</td>\n",
              "      <td>7</td>\n",
              "      <td>1</td>\n",
              "      <td>642</td>\n",
              "      <td>0</td>\n",
              "    </tr>\n",
              "    <tr>\n",
              "      <th>4</th>\n",
              "      <td>14260</td>\n",
              "      <td>8</td>\n",
              "      <td>5</td>\n",
              "      <td>1145</td>\n",
              "      <td>2</td>\n",
              "      <td>1</td>\n",
              "      <td>4</td>\n",
              "      <td>9</td>\n",
              "      <td>1</td>\n",
              "      <td>836</td>\n",
              "      <td>1</td>\n",
              "    </tr>\n",
              "    <tr>\n",
              "      <th>...</th>\n",
              "      <td>...</td>\n",
              "      <td>...</td>\n",
              "      <td>...</td>\n",
              "      <td>...</td>\n",
              "      <td>...</td>\n",
              "      <td>...</td>\n",
              "      <td>...</td>\n",
              "      <td>...</td>\n",
              "      <td>...</td>\n",
              "      <td>...</td>\n",
              "      <td>...</td>\n",
              "    </tr>\n",
              "    <tr>\n",
              "      <th>1455</th>\n",
              "      <td>7917</td>\n",
              "      <td>6</td>\n",
              "      <td>5</td>\n",
              "      <td>953</td>\n",
              "      <td>2</td>\n",
              "      <td>1</td>\n",
              "      <td>3</td>\n",
              "      <td>7</td>\n",
              "      <td>1</td>\n",
              "      <td>460</td>\n",
              "      <td>1</td>\n",
              "    </tr>\n",
              "    <tr>\n",
              "      <th>1456</th>\n",
              "      <td>13175</td>\n",
              "      <td>6</td>\n",
              "      <td>6</td>\n",
              "      <td>1542</td>\n",
              "      <td>2</td>\n",
              "      <td>0</td>\n",
              "      <td>3</td>\n",
              "      <td>7</td>\n",
              "      <td>2</td>\n",
              "      <td>500</td>\n",
              "      <td>1</td>\n",
              "    </tr>\n",
              "    <tr>\n",
              "      <th>1457</th>\n",
              "      <td>9042</td>\n",
              "      <td>7</td>\n",
              "      <td>9</td>\n",
              "      <td>1152</td>\n",
              "      <td>2</td>\n",
              "      <td>0</td>\n",
              "      <td>4</td>\n",
              "      <td>9</td>\n",
              "      <td>2</td>\n",
              "      <td>252</td>\n",
              "      <td>1</td>\n",
              "    </tr>\n",
              "    <tr>\n",
              "      <th>1458</th>\n",
              "      <td>9717</td>\n",
              "      <td>5</td>\n",
              "      <td>6</td>\n",
              "      <td>1078</td>\n",
              "      <td>1</td>\n",
              "      <td>0</td>\n",
              "      <td>2</td>\n",
              "      <td>5</td>\n",
              "      <td>0</td>\n",
              "      <td>240</td>\n",
              "      <td>0</td>\n",
              "    </tr>\n",
              "    <tr>\n",
              "      <th>1459</th>\n",
              "      <td>9937</td>\n",
              "      <td>5</td>\n",
              "      <td>6</td>\n",
              "      <td>1256</td>\n",
              "      <td>1</td>\n",
              "      <td>1</td>\n",
              "      <td>3</td>\n",
              "      <td>6</td>\n",
              "      <td>0</td>\n",
              "      <td>276</td>\n",
              "      <td>0</td>\n",
              "    </tr>\n",
              "  </tbody>\n",
              "</table>\n",
              "<p>1460 rows × 11 columns</p>\n",
              "</div>"
            ],
            "text/plain": [
              "      LotArea  OverallQual  ...  GarageArea  AboveMedianPrice\n",
              "0        8450            7  ...         548                 1\n",
              "1        9600            6  ...         460                 1\n",
              "2       11250            7  ...         608                 1\n",
              "3        9550            7  ...         642                 0\n",
              "4       14260            8  ...         836                 1\n",
              "...       ...          ...  ...         ...               ...\n",
              "1455     7917            6  ...         460                 1\n",
              "1456    13175            6  ...         500                 1\n",
              "1457     9042            7  ...         252                 1\n",
              "1458     9717            5  ...         240                 0\n",
              "1459     9937            5  ...         276                 0\n",
              "\n",
              "[1460 rows x 11 columns]"
            ]
          },
          "metadata": {
            "tags": []
          },
          "execution_count": 4
        }
      ]
    },
    {
      "cell_type": "markdown",
      "metadata": {
        "id": "xoVAUbQtRbru"
      },
      "source": [
        "**CLASSIFIYING DATASET**"
      ]
    },
    {
      "cell_type": "code",
      "metadata": {
        "id": "vwdgNls-Q_PM"
      },
      "source": [
        "dataset=df.values"
      ],
      "execution_count": 5,
      "outputs": []
    },
    {
      "cell_type": "code",
      "metadata": {
        "colab": {
          "base_uri": "https://localhost:8080/",
          "height": 0
        },
        "id": "wna9gHV2RCs0",
        "outputId": "f87b6fec-0980-40ad-e2f4-a94227760ba9"
      },
      "source": [
        "dataset"
      ],
      "execution_count": 6,
      "outputs": [
        {
          "output_type": "execute_result",
          "data": {
            "text/plain": [
              "array([[ 8450,     7,     5, ...,     0,   548,     1],\n",
              "       [ 9600,     6,     8, ...,     1,   460,     1],\n",
              "       [11250,     7,     5, ...,     1,   608,     1],\n",
              "       ...,\n",
              "       [ 9042,     7,     9, ...,     2,   252,     1],\n",
              "       [ 9717,     5,     6, ...,     0,   240,     0],\n",
              "       [ 9937,     5,     6, ...,     0,   276,     0]])"
            ]
          },
          "metadata": {
            "tags": []
          },
          "execution_count": 6
        }
      ]
    },
    {
      "cell_type": "markdown",
      "metadata": {
        "id": "0bV_XSibbzxu"
      },
      "source": [
        "**SPLITTING THE DATA**"
      ]
    },
    {
      "cell_type": "code",
      "metadata": {
        "id": "3j4PXjNKRFyA"
      },
      "source": [
        "X=dataset[:,0:10]"
      ],
      "execution_count": 7,
      "outputs": []
    },
    {
      "cell_type": "code",
      "metadata": {
        "id": "GLYmYwh8RL5K"
      },
      "source": [
        "Y = dataset[:,10]"
      ],
      "execution_count": 8,
      "outputs": []
    },
    {
      "cell_type": "code",
      "metadata": {
        "id": "pyS8E38zRNqi"
      },
      "source": [
        "from sklearn import preprocessing"
      ],
      "execution_count": 10,
      "outputs": []
    },
    {
      "cell_type": "code",
      "metadata": {
        "id": "l48zMkNgRPzQ"
      },
      "source": [
        "min_max_scaler = preprocessing.MinMaxScaler()\n",
        "X_scale = min_max_scaler.fit_transform(X)"
      ],
      "execution_count": 11,
      "outputs": []
    },
    {
      "cell_type": "code",
      "metadata": {
        "colab": {
          "base_uri": "https://localhost:8080/",
          "height": 0
        },
        "id": "esDmU2uVRvSD",
        "outputId": "4c3d4417-bfa8-4f4e-c585-a1ed2d12e7cd"
      },
      "source": [
        "X_scale"
      ],
      "execution_count": 12,
      "outputs": [
        {
          "output_type": "execute_result",
          "data": {
            "text/plain": [
              "array([[0.0334198 , 0.66666667, 0.5       , ..., 0.5       , 0.        ,\n",
              "        0.3864598 ],\n",
              "       [0.03879502, 0.55555556, 0.875     , ..., 0.33333333, 0.33333333,\n",
              "        0.32440056],\n",
              "       [0.04650728, 0.66666667, 0.5       , ..., 0.33333333, 0.33333333,\n",
              "        0.42877292],\n",
              "       ...,\n",
              "       [0.03618687, 0.66666667, 1.        , ..., 0.58333333, 0.66666667,\n",
              "        0.17771509],\n",
              "       [0.03934189, 0.44444444, 0.625     , ..., 0.25      , 0.        ,\n",
              "        0.16925247],\n",
              "       [0.04037019, 0.44444444, 0.625     , ..., 0.33333333, 0.        ,\n",
              "        0.19464034]])"
            ]
          },
          "metadata": {
            "tags": []
          },
          "execution_count": 12
        }
      ]
    },
    {
      "cell_type": "code",
      "metadata": {
        "id": "7pJc6BFuRxUP"
      },
      "source": [
        "from sklearn.model_selection import train_test_split"
      ],
      "execution_count": 13,
      "outputs": []
    },
    {
      "cell_type": "code",
      "metadata": {
        "id": "9NbOlR_pR5xy"
      },
      "source": [
        "X_train, X_val_and_test, Y_train, Y_val_and_test = train_test_split(X_scale, Y, test_size=0.3)"
      ],
      "execution_count": 14,
      "outputs": []
    },
    {
      "cell_type": "code",
      "metadata": {
        "id": "EPEYo3hhR7t_"
      },
      "source": [
        "X_val, X_test, Y_val, Y_test = train_test_split(X_val_and_test, Y_val_and_test, test_size=0.5)"
      ],
      "execution_count": 15,
      "outputs": []
    },
    {
      "cell_type": "code",
      "metadata": {
        "colab": {
          "base_uri": "https://localhost:8080/",
          "height": 0
        },
        "id": "36aqqQLRR-Mf",
        "outputId": "4029eb3e-674e-4f6b-9c03-b527d9aa0107"
      },
      "source": [
        "print(X_train.shape, X_val.shape, X_test.shape, Y_train.shape, Y_val.shape, Y_test.shape)"
      ],
      "execution_count": 16,
      "outputs": [
        {
          "output_type": "stream",
          "text": [
            "(1022, 10) (219, 10) (219, 10) (1022,) (219,) (219,)\n"
          ],
          "name": "stdout"
        }
      ]
    },
    {
      "cell_type": "markdown",
      "metadata": {
        "id": "1GrGzu_gRkHD"
      },
      "source": [
        "**TRAINING THE MODEL**"
      ]
    },
    {
      "cell_type": "code",
      "metadata": {
        "id": "HUCbb5VVSCMj"
      },
      "source": [
        "from keras.models import Sequential\n",
        "from keras.layers import Dense"
      ],
      "execution_count": 17,
      "outputs": []
    },
    {
      "cell_type": "code",
      "metadata": {
        "id": "0ldbVrctSDi0"
      },
      "source": [
        "model = Sequential([\n",
        "    Dense(32, activation='relu', input_shape=(10,)),\n",
        "    Dense(32, activation='relu'),\n",
        "    Dense(1, activation='sigmoid'),\n",
        "])"
      ],
      "execution_count": 18,
      "outputs": []
    },
    {
      "cell_type": "code",
      "metadata": {
        "id": "QmzL4fypSIQa"
      },
      "source": [
        "model.compile(optimizer='sgd',\n",
        "              loss='binary_crossentropy',\n",
        "              metrics=['accuracy'])"
      ],
      "execution_count": 19,
      "outputs": []
    },
    {
      "cell_type": "code",
      "metadata": {
        "colab": {
          "base_uri": "https://localhost:8080/",
          "height": 0
        },
        "id": "6XT6SNGvSKrv",
        "outputId": "d66c4284-b9e0-487e-9f25-4d2ba005e50d"
      },
      "source": [
        "hist = model.fit(X_train, Y_train,\n",
        "          batch_size=32, epochs=100,\n",
        "          validation_data=(X_val, Y_val))"
      ],
      "execution_count": 20,
      "outputs": [
        {
          "output_type": "stream",
          "text": [
            "Epoch 1/100\n",
            "32/32 [==============================] - 1s 14ms/step - loss: 0.6948 - accuracy: 0.5225 - val_loss: 0.6940 - val_accuracy: 0.4886\n",
            "Epoch 2/100\n",
            "32/32 [==============================] - 0s 2ms/step - loss: 0.6917 - accuracy: 0.5215 - val_loss: 0.6914 - val_accuracy: 0.4886\n",
            "Epoch 3/100\n",
            "32/32 [==============================] - 0s 2ms/step - loss: 0.6864 - accuracy: 0.5263 - val_loss: 0.6888 - val_accuracy: 0.4703\n",
            "Epoch 4/100\n",
            "32/32 [==============================] - 0s 2ms/step - loss: 0.6852 - accuracy: 0.4982 - val_loss: 0.6863 - val_accuracy: 0.4612\n",
            "Epoch 5/100\n",
            "32/32 [==============================] - 0s 2ms/step - loss: 0.6793 - accuracy: 0.5176 - val_loss: 0.6838 - val_accuracy: 0.4703\n",
            "Epoch 6/100\n",
            "32/32 [==============================] - 0s 2ms/step - loss: 0.6795 - accuracy: 0.5058 - val_loss: 0.6813 - val_accuracy: 0.4749\n",
            "Epoch 7/100\n",
            "32/32 [==============================] - 0s 2ms/step - loss: 0.6735 - accuracy: 0.5127 - val_loss: 0.6786 - val_accuracy: 0.4749\n",
            "Epoch 8/100\n",
            "32/32 [==============================] - 0s 2ms/step - loss: 0.6683 - accuracy: 0.5426 - val_loss: 0.6760 - val_accuracy: 0.5114\n",
            "Epoch 9/100\n",
            "32/32 [==============================] - 0s 2ms/step - loss: 0.6680 - accuracy: 0.5512 - val_loss: 0.6734 - val_accuracy: 0.5251\n",
            "Epoch 10/100\n",
            "32/32 [==============================] - 0s 2ms/step - loss: 0.6654 - accuracy: 0.5797 - val_loss: 0.6707 - val_accuracy: 0.5479\n",
            "Epoch 11/100\n",
            "32/32 [==============================] - 0s 2ms/step - loss: 0.6602 - accuracy: 0.5948 - val_loss: 0.6679 - val_accuracy: 0.5799\n",
            "Epoch 12/100\n",
            "32/32 [==============================] - 0s 2ms/step - loss: 0.6594 - accuracy: 0.6181 - val_loss: 0.6650 - val_accuracy: 0.5936\n",
            "Epoch 13/100\n",
            "32/32 [==============================] - 0s 2ms/step - loss: 0.6565 - accuracy: 0.6704 - val_loss: 0.6620 - val_accuracy: 0.6210\n",
            "Epoch 14/100\n",
            "32/32 [==============================] - 0s 2ms/step - loss: 0.6499 - accuracy: 0.6848 - val_loss: 0.6587 - val_accuracy: 0.6530\n",
            "Epoch 15/100\n",
            "32/32 [==============================] - 0s 2ms/step - loss: 0.6444 - accuracy: 0.7019 - val_loss: 0.6551 - val_accuracy: 0.6941\n",
            "Epoch 16/100\n",
            "32/32 [==============================] - 0s 2ms/step - loss: 0.6414 - accuracy: 0.7399 - val_loss: 0.6515 - val_accuracy: 0.7123\n",
            "Epoch 17/100\n",
            "32/32 [==============================] - 0s 3ms/step - loss: 0.6392 - accuracy: 0.7596 - val_loss: 0.6477 - val_accuracy: 0.7397\n",
            "Epoch 18/100\n",
            "32/32 [==============================] - 0s 2ms/step - loss: 0.6349 - accuracy: 0.7809 - val_loss: 0.6439 - val_accuracy: 0.7534\n",
            "Epoch 19/100\n",
            "32/32 [==============================] - 0s 2ms/step - loss: 0.6350 - accuracy: 0.7753 - val_loss: 0.6399 - val_accuracy: 0.7626\n",
            "Epoch 20/100\n",
            "32/32 [==============================] - 0s 2ms/step - loss: 0.6231 - accuracy: 0.8094 - val_loss: 0.6355 - val_accuracy: 0.7717\n",
            "Epoch 21/100\n",
            "32/32 [==============================] - 0s 2ms/step - loss: 0.6225 - accuracy: 0.7959 - val_loss: 0.6312 - val_accuracy: 0.7717\n",
            "Epoch 22/100\n",
            "32/32 [==============================] - 0s 2ms/step - loss: 0.6165 - accuracy: 0.7935 - val_loss: 0.6263 - val_accuracy: 0.7717\n",
            "Epoch 23/100\n",
            "32/32 [==============================] - 0s 2ms/step - loss: 0.6178 - accuracy: 0.7960 - val_loss: 0.6216 - val_accuracy: 0.7717\n",
            "Epoch 24/100\n",
            "32/32 [==============================] - 0s 3ms/step - loss: 0.6061 - accuracy: 0.7982 - val_loss: 0.6162 - val_accuracy: 0.7717\n",
            "Epoch 25/100\n",
            "32/32 [==============================] - 0s 2ms/step - loss: 0.5988 - accuracy: 0.8256 - val_loss: 0.6109 - val_accuracy: 0.7808\n",
            "Epoch 26/100\n",
            "32/32 [==============================] - 0s 2ms/step - loss: 0.5907 - accuracy: 0.8217 - val_loss: 0.6049 - val_accuracy: 0.7763\n",
            "Epoch 27/100\n",
            "32/32 [==============================] - 0s 3ms/step - loss: 0.5883 - accuracy: 0.8195 - val_loss: 0.5993 - val_accuracy: 0.7854\n",
            "Epoch 28/100\n",
            "32/32 [==============================] - 0s 3ms/step - loss: 0.5822 - accuracy: 0.8349 - val_loss: 0.5932 - val_accuracy: 0.7900\n",
            "Epoch 29/100\n",
            "32/32 [==============================] - 0s 2ms/step - loss: 0.5718 - accuracy: 0.8502 - val_loss: 0.5872 - val_accuracy: 0.7900\n",
            "Epoch 30/100\n",
            "32/32 [==============================] - 0s 2ms/step - loss: 0.5705 - accuracy: 0.8172 - val_loss: 0.5805 - val_accuracy: 0.7945\n",
            "Epoch 31/100\n",
            "32/32 [==============================] - 0s 2ms/step - loss: 0.5592 - accuracy: 0.8392 - val_loss: 0.5735 - val_accuracy: 0.7945\n",
            "Epoch 32/100\n",
            "32/32 [==============================] - 0s 2ms/step - loss: 0.5491 - accuracy: 0.8489 - val_loss: 0.5661 - val_accuracy: 0.8082\n",
            "Epoch 33/100\n",
            "32/32 [==============================] - 0s 2ms/step - loss: 0.5480 - accuracy: 0.8309 - val_loss: 0.5600 - val_accuracy: 0.7991\n",
            "Epoch 34/100\n",
            "32/32 [==============================] - 0s 2ms/step - loss: 0.5348 - accuracy: 0.8533 - val_loss: 0.5529 - val_accuracy: 0.8037\n",
            "Epoch 35/100\n",
            "32/32 [==============================] - 0s 2ms/step - loss: 0.5286 - accuracy: 0.8549 - val_loss: 0.5453 - val_accuracy: 0.8174\n",
            "Epoch 36/100\n",
            "32/32 [==============================] - 0s 2ms/step - loss: 0.5190 - accuracy: 0.8569 - val_loss: 0.5378 - val_accuracy: 0.8174\n",
            "Epoch 37/100\n",
            "32/32 [==============================] - 0s 2ms/step - loss: 0.5145 - accuracy: 0.8548 - val_loss: 0.5309 - val_accuracy: 0.8174\n",
            "Epoch 38/100\n",
            "32/32 [==============================] - 0s 2ms/step - loss: 0.5085 - accuracy: 0.8326 - val_loss: 0.5233 - val_accuracy: 0.8219\n",
            "Epoch 39/100\n",
            "32/32 [==============================] - 0s 2ms/step - loss: 0.5038 - accuracy: 0.8452 - val_loss: 0.5159 - val_accuracy: 0.8174\n",
            "Epoch 40/100\n",
            "32/32 [==============================] - 0s 2ms/step - loss: 0.4922 - accuracy: 0.8368 - val_loss: 0.5090 - val_accuracy: 0.8219\n",
            "Epoch 41/100\n",
            "32/32 [==============================] - 0s 3ms/step - loss: 0.4892 - accuracy: 0.8477 - val_loss: 0.5016 - val_accuracy: 0.8219\n",
            "Epoch 42/100\n",
            "32/32 [==============================] - 0s 2ms/step - loss: 0.4760 - accuracy: 0.8546 - val_loss: 0.4944 - val_accuracy: 0.8219\n",
            "Epoch 43/100\n",
            "32/32 [==============================] - 0s 2ms/step - loss: 0.4563 - accuracy: 0.8618 - val_loss: 0.4877 - val_accuracy: 0.8265\n",
            "Epoch 44/100\n",
            "32/32 [==============================] - 0s 2ms/step - loss: 0.4512 - accuracy: 0.8588 - val_loss: 0.4801 - val_accuracy: 0.8356\n",
            "Epoch 45/100\n",
            "32/32 [==============================] - 0s 2ms/step - loss: 0.4494 - accuracy: 0.8709 - val_loss: 0.4742 - val_accuracy: 0.8356\n",
            "Epoch 46/100\n",
            "32/32 [==============================] - 0s 2ms/step - loss: 0.4322 - accuracy: 0.8556 - val_loss: 0.4666 - val_accuracy: 0.8402\n",
            "Epoch 47/100\n",
            "32/32 [==============================] - 0s 2ms/step - loss: 0.4423 - accuracy: 0.8591 - val_loss: 0.4610 - val_accuracy: 0.8356\n",
            "Epoch 48/100\n",
            "32/32 [==============================] - 0s 2ms/step - loss: 0.4163 - accuracy: 0.8837 - val_loss: 0.4547 - val_accuracy: 0.8402\n",
            "Epoch 49/100\n",
            "32/32 [==============================] - 0s 2ms/step - loss: 0.4158 - accuracy: 0.8647 - val_loss: 0.4473 - val_accuracy: 0.8447\n",
            "Epoch 50/100\n",
            "32/32 [==============================] - 0s 2ms/step - loss: 0.4255 - accuracy: 0.8591 - val_loss: 0.4426 - val_accuracy: 0.8447\n",
            "Epoch 51/100\n",
            "32/32 [==============================] - 0s 2ms/step - loss: 0.4146 - accuracy: 0.8605 - val_loss: 0.4360 - val_accuracy: 0.8493\n",
            "Epoch 52/100\n",
            "32/32 [==============================] - 0s 2ms/step - loss: 0.4062 - accuracy: 0.8632 - val_loss: 0.4315 - val_accuracy: 0.8447\n",
            "Epoch 53/100\n",
            "32/32 [==============================] - 0s 2ms/step - loss: 0.3825 - accuracy: 0.8850 - val_loss: 0.4265 - val_accuracy: 0.8493\n",
            "Epoch 54/100\n",
            "32/32 [==============================] - 0s 3ms/step - loss: 0.3842 - accuracy: 0.8754 - val_loss: 0.4201 - val_accuracy: 0.8539\n",
            "Epoch 55/100\n",
            "32/32 [==============================] - 0s 2ms/step - loss: 0.3766 - accuracy: 0.8804 - val_loss: 0.4151 - val_accuracy: 0.8584\n",
            "Epoch 56/100\n",
            "32/32 [==============================] - 0s 2ms/step - loss: 0.3817 - accuracy: 0.8615 - val_loss: 0.4117 - val_accuracy: 0.8584\n",
            "Epoch 57/100\n",
            "32/32 [==============================] - 0s 3ms/step - loss: 0.3787 - accuracy: 0.8658 - val_loss: 0.4053 - val_accuracy: 0.8630\n",
            "Epoch 58/100\n",
            "32/32 [==============================] - 0s 3ms/step - loss: 0.3617 - accuracy: 0.8781 - val_loss: 0.4018 - val_accuracy: 0.8630\n",
            "Epoch 59/100\n",
            "32/32 [==============================] - 0s 2ms/step - loss: 0.3622 - accuracy: 0.8826 - val_loss: 0.3974 - val_accuracy: 0.8630\n",
            "Epoch 60/100\n",
            "32/32 [==============================] - 0s 2ms/step - loss: 0.3591 - accuracy: 0.8747 - val_loss: 0.3950 - val_accuracy: 0.8721\n",
            "Epoch 61/100\n",
            "32/32 [==============================] - 0s 2ms/step - loss: 0.3576 - accuracy: 0.8738 - val_loss: 0.3894 - val_accuracy: 0.8676\n",
            "Epoch 62/100\n",
            "32/32 [==============================] - 0s 3ms/step - loss: 0.3528 - accuracy: 0.8655 - val_loss: 0.3867 - val_accuracy: 0.8721\n",
            "Epoch 63/100\n",
            "32/32 [==============================] - 0s 2ms/step - loss: 0.3511 - accuracy: 0.8643 - val_loss: 0.3838 - val_accuracy: 0.8721\n",
            "Epoch 64/100\n",
            "32/32 [==============================] - 0s 2ms/step - loss: 0.3402 - accuracy: 0.8803 - val_loss: 0.3806 - val_accuracy: 0.8767\n",
            "Epoch 65/100\n",
            "32/32 [==============================] - 0s 2ms/step - loss: 0.3410 - accuracy: 0.8774 - val_loss: 0.3752 - val_accuracy: 0.8813\n",
            "Epoch 66/100\n",
            "32/32 [==============================] - 0s 2ms/step - loss: 0.3391 - accuracy: 0.8779 - val_loss: 0.3741 - val_accuracy: 0.8767\n",
            "Epoch 67/100\n",
            "32/32 [==============================] - 0s 2ms/step - loss: 0.3313 - accuracy: 0.8657 - val_loss: 0.3684 - val_accuracy: 0.8813\n",
            "Epoch 68/100\n",
            "32/32 [==============================] - 0s 2ms/step - loss: 0.3404 - accuracy: 0.8587 - val_loss: 0.3661 - val_accuracy: 0.8813\n",
            "Epoch 69/100\n",
            "32/32 [==============================] - 0s 2ms/step - loss: 0.3101 - accuracy: 0.8869 - val_loss: 0.3622 - val_accuracy: 0.8858\n",
            "Epoch 70/100\n",
            "32/32 [==============================] - 0s 2ms/step - loss: 0.3150 - accuracy: 0.8867 - val_loss: 0.3615 - val_accuracy: 0.8904\n",
            "Epoch 71/100\n",
            "32/32 [==============================] - 0s 2ms/step - loss: 0.3295 - accuracy: 0.8626 - val_loss: 0.3579 - val_accuracy: 0.8813\n",
            "Epoch 72/100\n",
            "32/32 [==============================] - 0s 2ms/step - loss: 0.3103 - accuracy: 0.8836 - val_loss: 0.3545 - val_accuracy: 0.8904\n",
            "Epoch 73/100\n",
            "32/32 [==============================] - 0s 2ms/step - loss: 0.3111 - accuracy: 0.8744 - val_loss: 0.3551 - val_accuracy: 0.8858\n",
            "Epoch 74/100\n",
            "32/32 [==============================] - 0s 3ms/step - loss: 0.3368 - accuracy: 0.8563 - val_loss: 0.3523 - val_accuracy: 0.8904\n",
            "Epoch 75/100\n",
            "32/32 [==============================] - 0s 2ms/step - loss: 0.3069 - accuracy: 0.8703 - val_loss: 0.3481 - val_accuracy: 0.8904\n",
            "Epoch 76/100\n",
            "32/32 [==============================] - 0s 2ms/step - loss: 0.3139 - accuracy: 0.8776 - val_loss: 0.3460 - val_accuracy: 0.8904\n",
            "Epoch 77/100\n",
            "32/32 [==============================] - 0s 2ms/step - loss: 0.3081 - accuracy: 0.8769 - val_loss: 0.3432 - val_accuracy: 0.8858\n",
            "Epoch 78/100\n",
            "32/32 [==============================] - 0s 2ms/step - loss: 0.3093 - accuracy: 0.8798 - val_loss: 0.3424 - val_accuracy: 0.8950\n",
            "Epoch 79/100\n",
            "32/32 [==============================] - 0s 2ms/step - loss: 0.3272 - accuracy: 0.8634 - val_loss: 0.3407 - val_accuracy: 0.8995\n",
            "Epoch 80/100\n",
            "32/32 [==============================] - 0s 2ms/step - loss: 0.2969 - accuracy: 0.8809 - val_loss: 0.3377 - val_accuracy: 0.8904\n",
            "Epoch 81/100\n",
            "32/32 [==============================] - 0s 2ms/step - loss: 0.3093 - accuracy: 0.8778 - val_loss: 0.3377 - val_accuracy: 0.8950\n",
            "Epoch 82/100\n",
            "32/32 [==============================] - 0s 2ms/step - loss: 0.2802 - accuracy: 0.8912 - val_loss: 0.3352 - val_accuracy: 0.8950\n",
            "Epoch 83/100\n",
            "32/32 [==============================] - 0s 2ms/step - loss: 0.2818 - accuracy: 0.8893 - val_loss: 0.3330 - val_accuracy: 0.8995\n",
            "Epoch 84/100\n",
            "32/32 [==============================] - 0s 2ms/step - loss: 0.2906 - accuracy: 0.8803 - val_loss: 0.3317 - val_accuracy: 0.8950\n",
            "Epoch 85/100\n",
            "32/32 [==============================] - 0s 2ms/step - loss: 0.2746 - accuracy: 0.8989 - val_loss: 0.3297 - val_accuracy: 0.8950\n",
            "Epoch 86/100\n",
            "32/32 [==============================] - 0s 2ms/step - loss: 0.2855 - accuracy: 0.8885 - val_loss: 0.3282 - val_accuracy: 0.8950\n",
            "Epoch 87/100\n",
            "32/32 [==============================] - 0s 3ms/step - loss: 0.2921 - accuracy: 0.8783 - val_loss: 0.3265 - val_accuracy: 0.8950\n",
            "Epoch 88/100\n",
            "32/32 [==============================] - 0s 3ms/step - loss: 0.3203 - accuracy: 0.8674 - val_loss: 0.3248 - val_accuracy: 0.8950\n",
            "Epoch 89/100\n",
            "32/32 [==============================] - 0s 2ms/step - loss: 0.2808 - accuracy: 0.8818 - val_loss: 0.3238 - val_accuracy: 0.8950\n",
            "Epoch 90/100\n",
            "32/32 [==============================] - 0s 2ms/step - loss: 0.2901 - accuracy: 0.8703 - val_loss: 0.3235 - val_accuracy: 0.8995\n",
            "Epoch 91/100\n",
            "32/32 [==============================] - 0s 2ms/step - loss: 0.2671 - accuracy: 0.9050 - val_loss: 0.3222 - val_accuracy: 0.8995\n",
            "Epoch 92/100\n",
            "32/32 [==============================] - 0s 3ms/step - loss: 0.2815 - accuracy: 0.8908 - val_loss: 0.3207 - val_accuracy: 0.8950\n",
            "Epoch 93/100\n",
            "32/32 [==============================] - 0s 2ms/step - loss: 0.2885 - accuracy: 0.8820 - val_loss: 0.3197 - val_accuracy: 0.8995\n",
            "Epoch 94/100\n",
            "32/32 [==============================] - 0s 2ms/step - loss: 0.2898 - accuracy: 0.8785 - val_loss: 0.3180 - val_accuracy: 0.9041\n",
            "Epoch 95/100\n",
            "32/32 [==============================] - 0s 2ms/step - loss: 0.2940 - accuracy: 0.8659 - val_loss: 0.3170 - val_accuracy: 0.9041\n",
            "Epoch 96/100\n",
            "32/32 [==============================] - 0s 2ms/step - loss: 0.2829 - accuracy: 0.8825 - val_loss: 0.3168 - val_accuracy: 0.9041\n",
            "Epoch 97/100\n",
            "32/32 [==============================] - 0s 2ms/step - loss: 0.2599 - accuracy: 0.8952 - val_loss: 0.3154 - val_accuracy: 0.9041\n",
            "Epoch 98/100\n",
            "32/32 [==============================] - 0s 3ms/step - loss: 0.2682 - accuracy: 0.8981 - val_loss: 0.3150 - val_accuracy: 0.9132\n",
            "Epoch 99/100\n",
            "32/32 [==============================] - 0s 3ms/step - loss: 0.2899 - accuracy: 0.8745 - val_loss: 0.3152 - val_accuracy: 0.9087\n",
            "Epoch 100/100\n",
            "32/32 [==============================] - 0s 2ms/step - loss: 0.2814 - accuracy: 0.8761 - val_loss: 0.3124 - val_accuracy: 0.9087\n"
          ],
          "name": "stdout"
        }
      ]
    },
    {
      "cell_type": "code",
      "metadata": {
        "colab": {
          "base_uri": "https://localhost:8080/",
          "height": 0
        },
        "id": "joYgG3-lT7mK",
        "outputId": "92e2c683-5d91-46f9-940c-6691e1d613d3"
      },
      "source": [
        "model.evaluate(X_test, Y_test)[1]"
      ],
      "execution_count": 21,
      "outputs": [
        {
          "output_type": "stream",
          "text": [
            "7/7 [==============================] - 0s 2ms/step - loss: 0.2981 - accuracy: 0.8676\n"
          ],
          "name": "stdout"
        },
        {
          "output_type": "execute_result",
          "data": {
            "text/plain": [
              "0.8675799369812012"
            ]
          },
          "metadata": {
            "tags": []
          },
          "execution_count": 21
        }
      ]
    },
    {
      "cell_type": "markdown",
      "metadata": {
        "id": "cIpUp2hIRsKb"
      },
      "source": [
        "**VISUALIZING THE DATA**"
      ]
    },
    {
      "cell_type": "code",
      "metadata": {
        "id": "bIUl8UPNT-8O"
      },
      "source": [
        "import matplotlib.pyplot as plt"
      ],
      "execution_count": 22,
      "outputs": []
    },
    {
      "cell_type": "code",
      "metadata": {
        "colab": {
          "base_uri": "https://localhost:8080/",
          "height": 295
        },
        "id": "x2xyEfhcUArj",
        "outputId": "a4305ff0-458a-42b4-ff89-fe2880d9ceaf"
      },
      "source": [
        "plt.plot(hist.history['loss'],color='black')\n",
        "plt.plot(hist.history['val_loss'],color='blue')\n",
        "plt.title('Model loss')\n",
        "plt.ylabel('Loss')\n",
        "plt.xlabel('Epoch')\n",
        "plt.legend(['Train', 'Val'], loc='upper right')\n",
        "plt.show()"
      ],
      "execution_count": 26,
      "outputs": [
        {
          "output_type": "display_data",
          "data": {
            "image/png": "[encoded data removed]",
            "text/plain": [
              "<Figure size 432x288 with 1 Axes>"
            ]
          },
          "metadata": {
            "tags": [],
            "needs_background": "light"
          }
        }
      ]
    },
    {
      "cell_type": "code",
      "metadata": {
        "colab": {
          "base_uri": "https://localhost:8080/",
          "height": 295
        },
        "id": "rdXFOM-pUDJf",
        "outputId": "a54e0bef-821f-4813-86af-7df403a57fb1"
      },
      "source": [
        "plt.plot(hist.history['accuracy'],color='black')\n",
        "plt.plot(hist.history['val_accuracy'],color='blue')\n",
        "plt.title('Model accuracy')\n",
        "plt.ylabel('Accuracy')\n",
        "plt.xlabel('Epoch')\n",
        "plt.legend(['Train', 'Val'], loc='lower right')\n",
        "plt.show()"
      ],
      "execution_count": 27,
      "outputs": [
        {
          "output_type": "display_data",
          "data": {
            "image/png": "[encoded data removed]",
            "text/plain": [
              "<Figure size 432x288 with 1 Axes>"
            ]
          },
          "metadata": {
            "tags": [],
            "needs_background": "light"
          }
        }
      ]
    },
    {
      "cell_type": "code",
      "metadata": {
        "colab": {
          "base_uri": "https://localhost:8080/",
          "height": 0
        },
        "id": "geXuGaCyUgo5",
        "outputId": "9d520e25-a015-4199-c522-35ea1c88fe60"
      },
      "source": [
        "model_2 = Sequential([\n",
        "    Dense(1000, activation='relu', input_shape=(10,)),\n",
        "    Dense(1000, activation='relu'),\n",
        "    Dense(1000, activation='relu'),\n",
        "    Dense(1000, activation='relu'),\n",
        "    Dense(1, activation='sigmoid'),\n",
        "])\n",
        "\n",
        "model_2.compile(optimizer='adam',\n",
        "              loss='binary_crossentropy',\n",
        "              metrics=['accuracy'])\n",
        "              \n",
        "hist_2 = model_2.fit(X_train, Y_train,\n",
        "          batch_size=32, epochs=100,\n",
        "          validation_data=(X_val, Y_val))"
      ],
      "execution_count": 28,
      "outputs": [
        {
          "output_type": "stream",
          "text": [
            "Epoch 1/100\n",
            "32/32 [==============================] - 2s 38ms/step - loss: 0.5767 - accuracy: 0.6736 - val_loss: 0.4069 - val_accuracy: 0.8174\n",
            "Epoch 2/100\n",
            "32/32 [==============================] - 1s 33ms/step - loss: 0.3676 - accuracy: 0.8458 - val_loss: 0.4483 - val_accuracy: 0.8493\n",
            "Epoch 3/100\n",
            "32/32 [==============================] - 1s 34ms/step - loss: 0.2989 - accuracy: 0.8669 - val_loss: 0.3660 - val_accuracy: 0.8676\n",
            "Epoch 4/100\n",
            "32/32 [==============================] - 1s 33ms/step - loss: 0.2810 - accuracy: 0.8830 - val_loss: 0.3500 - val_accuracy: 0.8950\n",
            "Epoch 5/100\n",
            "32/32 [==============================] - 1s 34ms/step - loss: 0.2730 - accuracy: 0.8894 - val_loss: 0.4063 - val_accuracy: 0.8402\n",
            "Epoch 6/100\n",
            "32/32 [==============================] - 1s 33ms/step - loss: 0.2680 - accuracy: 0.8955 - val_loss: 0.3278 - val_accuracy: 0.8904\n",
            "Epoch 7/100\n",
            "32/32 [==============================] - 1s 34ms/step - loss: 0.2684 - accuracy: 0.8788 - val_loss: 0.3247 - val_accuracy: 0.8950\n",
            "Epoch 8/100\n",
            "32/32 [==============================] - 1s 33ms/step - loss: 0.2676 - accuracy: 0.8879 - val_loss: 0.3764 - val_accuracy: 0.8858\n",
            "Epoch 9/100\n",
            "32/32 [==============================] - 1s 33ms/step - loss: 0.2552 - accuracy: 0.8865 - val_loss: 0.4425 - val_accuracy: 0.8950\n",
            "Epoch 10/100\n",
            "32/32 [==============================] - 1s 33ms/step - loss: 0.2871 - accuracy: 0.8741 - val_loss: 0.3499 - val_accuracy: 0.9041\n",
            "Epoch 11/100\n",
            "32/32 [==============================] - 1s 33ms/step - loss: 0.2229 - accuracy: 0.9049 - val_loss: 0.3435 - val_accuracy: 0.8904\n",
            "Epoch 12/100\n",
            "32/32 [==============================] - 1s 33ms/step - loss: 0.2181 - accuracy: 0.9144 - val_loss: 0.3556 - val_accuracy: 0.8995\n",
            "Epoch 13/100\n",
            "32/32 [==============================] - 1s 33ms/step - loss: 0.1775 - accuracy: 0.9244 - val_loss: 0.3577 - val_accuracy: 0.9087\n",
            "Epoch 14/100\n",
            "32/32 [==============================] - 1s 33ms/step - loss: 0.2196 - accuracy: 0.9162 - val_loss: 0.4058 - val_accuracy: 0.8767\n",
            "Epoch 15/100\n",
            "32/32 [==============================] - 1s 33ms/step - loss: 0.2598 - accuracy: 0.9067 - val_loss: 0.3346 - val_accuracy: 0.8904\n",
            "Epoch 16/100\n",
            "32/32 [==============================] - 1s 33ms/step - loss: 0.2005 - accuracy: 0.9110 - val_loss: 0.3769 - val_accuracy: 0.9132\n",
            "Epoch 17/100\n",
            "32/32 [==============================] - 1s 33ms/step - loss: 0.2199 - accuracy: 0.9034 - val_loss: 0.3619 - val_accuracy: 0.9087\n",
            "Epoch 18/100\n",
            "32/32 [==============================] - 1s 33ms/step - loss: 0.2111 - accuracy: 0.9156 - val_loss: 0.3618 - val_accuracy: 0.8995\n",
            "Epoch 19/100\n",
            "32/32 [==============================] - 1s 33ms/step - loss: 0.1999 - accuracy: 0.9149 - val_loss: 0.3595 - val_accuracy: 0.8676\n",
            "Epoch 20/100\n",
            "32/32 [==============================] - 1s 34ms/step - loss: 0.2197 - accuracy: 0.8999 - val_loss: 0.3356 - val_accuracy: 0.9087\n",
            "Epoch 21/100\n",
            "32/32 [==============================] - 1s 33ms/step - loss: 0.1998 - accuracy: 0.9261 - val_loss: 0.3118 - val_accuracy: 0.8950\n",
            "Epoch 22/100\n",
            "32/32 [==============================] - 1s 34ms/step - loss: 0.2036 - accuracy: 0.9208 - val_loss: 0.3504 - val_accuracy: 0.8950\n",
            "Epoch 23/100\n",
            "32/32 [==============================] - 1s 33ms/step - loss: 0.2177 - accuracy: 0.9066 - val_loss: 0.4342 - val_accuracy: 0.8904\n",
            "Epoch 24/100\n",
            "32/32 [==============================] - 1s 33ms/step - loss: 0.2107 - accuracy: 0.9232 - val_loss: 0.4934 - val_accuracy: 0.8311\n",
            "Epoch 25/100\n",
            "32/32 [==============================] - 1s 34ms/step - loss: 0.2646 - accuracy: 0.8939 - val_loss: 0.3934 - val_accuracy: 0.8767\n",
            "Epoch 26/100\n",
            "32/32 [==============================] - 1s 33ms/step - loss: 0.1800 - accuracy: 0.9306 - val_loss: 0.4302 - val_accuracy: 0.8676\n",
            "Epoch 27/100\n",
            "32/32 [==============================] - 1s 33ms/step - loss: 0.2218 - accuracy: 0.9147 - val_loss: 0.3567 - val_accuracy: 0.8995\n",
            "Epoch 28/100\n",
            "32/32 [==============================] - 1s 33ms/step - loss: 0.2025 - accuracy: 0.9153 - val_loss: 0.4145 - val_accuracy: 0.8813\n",
            "Epoch 29/100\n",
            "32/32 [==============================] - 1s 32ms/step - loss: 0.1593 - accuracy: 0.9444 - val_loss: 0.3529 - val_accuracy: 0.9041\n",
            "Epoch 30/100\n",
            "32/32 [==============================] - 1s 33ms/step - loss: 0.1782 - accuracy: 0.9232 - val_loss: 0.3562 - val_accuracy: 0.9041\n",
            "Epoch 31/100\n",
            "32/32 [==============================] - 1s 34ms/step - loss: 0.1668 - accuracy: 0.9294 - val_loss: 0.3920 - val_accuracy: 0.9132\n",
            "Epoch 32/100\n",
            "32/32 [==============================] - 1s 33ms/step - loss: 0.1905 - accuracy: 0.9226 - val_loss: 0.4282 - val_accuracy: 0.9041\n",
            "Epoch 33/100\n",
            "32/32 [==============================] - 1s 34ms/step - loss: 0.2155 - accuracy: 0.9238 - val_loss: 0.3803 - val_accuracy: 0.9041\n",
            "Epoch 34/100\n",
            "32/32 [==============================] - 1s 33ms/step - loss: 0.1668 - accuracy: 0.9320 - val_loss: 0.3502 - val_accuracy: 0.9178\n",
            "Epoch 35/100\n",
            "32/32 [==============================] - 1s 34ms/step - loss: 0.2152 - accuracy: 0.9026 - val_loss: 0.3387 - val_accuracy: 0.9132\n",
            "Epoch 36/100\n",
            "32/32 [==============================] - 1s 33ms/step - loss: 0.1908 - accuracy: 0.9263 - val_loss: 0.3486 - val_accuracy: 0.9087\n",
            "Epoch 37/100\n",
            "32/32 [==============================] - 1s 34ms/step - loss: 0.1818 - accuracy: 0.9191 - val_loss: 0.3886 - val_accuracy: 0.9041\n",
            "Epoch 38/100\n",
            "32/32 [==============================] - 1s 33ms/step - loss: 0.1858 - accuracy: 0.9262 - val_loss: 0.3865 - val_accuracy: 0.8858\n",
            "Epoch 39/100\n",
            "32/32 [==============================] - 1s 34ms/step - loss: 0.1617 - accuracy: 0.9424 - val_loss: 0.3380 - val_accuracy: 0.8858\n",
            "Epoch 40/100\n",
            "32/32 [==============================] - 1s 34ms/step - loss: 0.1858 - accuracy: 0.9251 - val_loss: 0.3472 - val_accuracy: 0.8995\n",
            "Epoch 41/100\n",
            "32/32 [==============================] - 1s 34ms/step - loss: 0.1788 - accuracy: 0.9224 - val_loss: 0.4108 - val_accuracy: 0.8904\n",
            "Epoch 42/100\n",
            "32/32 [==============================] - 1s 33ms/step - loss: 0.1825 - accuracy: 0.9339 - val_loss: 0.3713 - val_accuracy: 0.9087\n",
            "Epoch 43/100\n",
            "32/32 [==============================] - 1s 34ms/step - loss: 0.1840 - accuracy: 0.9232 - val_loss: 0.3988 - val_accuracy: 0.8904\n",
            "Epoch 44/100\n",
            "32/32 [==============================] - 1s 34ms/step - loss: 0.1509 - accuracy: 0.9367 - val_loss: 0.3692 - val_accuracy: 0.9087\n",
            "Epoch 45/100\n",
            "32/32 [==============================] - 1s 34ms/step - loss: 0.1770 - accuracy: 0.9238 - val_loss: 0.3993 - val_accuracy: 0.8995\n",
            "Epoch 46/100\n",
            "32/32 [==============================] - 1s 34ms/step - loss: 0.1436 - accuracy: 0.9442 - val_loss: 0.3645 - val_accuracy: 0.9087\n",
            "Epoch 47/100\n",
            "32/32 [==============================] - 1s 34ms/step - loss: 0.1738 - accuracy: 0.9173 - val_loss: 0.4490 - val_accuracy: 0.9087\n",
            "Epoch 48/100\n",
            "32/32 [==============================] - 1s 33ms/step - loss: 0.1772 - accuracy: 0.9279 - val_loss: 0.4146 - val_accuracy: 0.8950\n",
            "Epoch 49/100\n",
            "32/32 [==============================] - 1s 34ms/step - loss: 0.1882 - accuracy: 0.9217 - val_loss: 0.3852 - val_accuracy: 0.9087\n",
            "Epoch 50/100\n",
            "32/32 [==============================] - 1s 33ms/step - loss: 0.1190 - accuracy: 0.9650 - val_loss: 0.3404 - val_accuracy: 0.9132\n",
            "Epoch 51/100\n",
            "32/32 [==============================] - 1s 34ms/step - loss: 0.1660 - accuracy: 0.9373 - val_loss: 0.4163 - val_accuracy: 0.8858\n",
            "Epoch 52/100\n",
            "32/32 [==============================] - 1s 34ms/step - loss: 0.2138 - accuracy: 0.9076 - val_loss: 0.3499 - val_accuracy: 0.8950\n",
            "Epoch 53/100\n",
            "32/32 [==============================] - 1s 34ms/step - loss: 0.1585 - accuracy: 0.9362 - val_loss: 0.4251 - val_accuracy: 0.8950\n",
            "Epoch 54/100\n",
            "32/32 [==============================] - 1s 34ms/step - loss: 0.2191 - accuracy: 0.9123 - val_loss: 0.4234 - val_accuracy: 0.8995\n",
            "Epoch 55/100\n",
            "32/32 [==============================] - 1s 34ms/step - loss: 0.1707 - accuracy: 0.9312 - val_loss: 0.4133 - val_accuracy: 0.8950\n",
            "Epoch 56/100\n",
            "32/32 [==============================] - 1s 34ms/step - loss: 0.2241 - accuracy: 0.9105 - val_loss: 0.4238 - val_accuracy: 0.8813\n",
            "Epoch 57/100\n",
            "32/32 [==============================] - 1s 34ms/step - loss: 0.1538 - accuracy: 0.9358 - val_loss: 0.3779 - val_accuracy: 0.8858\n",
            "Epoch 58/100\n",
            "32/32 [==============================] - 1s 34ms/step - loss: 0.2110 - accuracy: 0.9037 - val_loss: 0.3697 - val_accuracy: 0.8950\n",
            "Epoch 59/100\n",
            "32/32 [==============================] - 1s 33ms/step - loss: 0.1729 - accuracy: 0.9269 - val_loss: 0.3653 - val_accuracy: 0.8813\n",
            "Epoch 60/100\n",
            "32/32 [==============================] - 1s 34ms/step - loss: 0.1546 - accuracy: 0.9416 - val_loss: 0.3785 - val_accuracy: 0.9132\n",
            "Epoch 61/100\n",
            "32/32 [==============================] - 1s 34ms/step - loss: 0.1582 - accuracy: 0.9311 - val_loss: 0.3197 - val_accuracy: 0.8995\n",
            "Epoch 62/100\n",
            "32/32 [==============================] - 1s 33ms/step - loss: 0.1626 - accuracy: 0.9395 - val_loss: 0.3587 - val_accuracy: 0.9087\n",
            "Epoch 63/100\n",
            "32/32 [==============================] - 1s 33ms/step - loss: 0.1913 - accuracy: 0.9322 - val_loss: 0.4866 - val_accuracy: 0.8950\n",
            "Epoch 64/100\n",
            "32/32 [==============================] - 1s 33ms/step - loss: 0.1401 - accuracy: 0.9500 - val_loss: 0.3920 - val_accuracy: 0.8995\n",
            "Epoch 65/100\n",
            "32/32 [==============================] - 1s 34ms/step - loss: 0.1384 - accuracy: 0.9467 - val_loss: 0.4339 - val_accuracy: 0.8995\n",
            "Epoch 66/100\n",
            "32/32 [==============================] - 1s 33ms/step - loss: 0.1485 - accuracy: 0.9321 - val_loss: 0.3634 - val_accuracy: 0.8630\n",
            "Epoch 67/100\n",
            "32/32 [==============================] - 1s 32ms/step - loss: 0.1449 - accuracy: 0.9531 - val_loss: 0.4316 - val_accuracy: 0.9041\n",
            "Epoch 68/100\n",
            "32/32 [==============================] - 1s 34ms/step - loss: 0.1509 - accuracy: 0.9326 - val_loss: 0.5031 - val_accuracy: 0.8858\n",
            "Epoch 69/100\n",
            "32/32 [==============================] - 1s 33ms/step - loss: 0.1276 - accuracy: 0.9415 - val_loss: 0.3721 - val_accuracy: 0.8904\n",
            "Epoch 70/100\n",
            "32/32 [==============================] - 1s 34ms/step - loss: 0.1901 - accuracy: 0.9286 - val_loss: 0.4194 - val_accuracy: 0.8767\n",
            "Epoch 71/100\n",
            "32/32 [==============================] - 1s 34ms/step - loss: 0.1594 - accuracy: 0.9337 - val_loss: 0.4890 - val_accuracy: 0.8721\n",
            "Epoch 72/100\n",
            "32/32 [==============================] - 1s 34ms/step - loss: 0.1428 - accuracy: 0.9378 - val_loss: 0.4153 - val_accuracy: 0.8721\n",
            "Epoch 73/100\n",
            "32/32 [==============================] - 1s 33ms/step - loss: 0.1777 - accuracy: 0.9251 - val_loss: 0.4362 - val_accuracy: 0.8767\n",
            "Epoch 74/100\n",
            "32/32 [==============================] - 1s 33ms/step - loss: 0.1724 - accuracy: 0.9369 - val_loss: 0.3875 - val_accuracy: 0.8904\n",
            "Epoch 75/100\n",
            "32/32 [==============================] - 1s 34ms/step - loss: 0.1246 - accuracy: 0.9506 - val_loss: 0.3854 - val_accuracy: 0.8813\n",
            "Epoch 76/100\n",
            "32/32 [==============================] - 1s 34ms/step - loss: 0.1147 - accuracy: 0.9513 - val_loss: 0.3454 - val_accuracy: 0.8813\n",
            "Epoch 77/100\n",
            "32/32 [==============================] - 1s 34ms/step - loss: 0.1653 - accuracy: 0.9369 - val_loss: 0.4638 - val_accuracy: 0.8950\n",
            "Epoch 78/100\n",
            "32/32 [==============================] - 1s 34ms/step - loss: 0.1617 - accuracy: 0.9307 - val_loss: 0.4651 - val_accuracy: 0.8995\n",
            "Epoch 79/100\n",
            "32/32 [==============================] - 1s 35ms/step - loss: 0.1304 - accuracy: 0.9531 - val_loss: 0.4622 - val_accuracy: 0.8995\n",
            "Epoch 80/100\n",
            "32/32 [==============================] - 1s 33ms/step - loss: 0.1436 - accuracy: 0.9410 - val_loss: 0.4374 - val_accuracy: 0.8858\n",
            "Epoch 81/100\n",
            "32/32 [==============================] - 1s 33ms/step - loss: 0.0973 - accuracy: 0.9664 - val_loss: 0.4379 - val_accuracy: 0.8858\n",
            "Epoch 82/100\n",
            "32/32 [==============================] - 1s 33ms/step - loss: 0.1197 - accuracy: 0.9485 - val_loss: 0.4339 - val_accuracy: 0.8813\n",
            "Epoch 83/100\n",
            "32/32 [==============================] - 1s 33ms/step - loss: 0.1534 - accuracy: 0.9421 - val_loss: 0.5922 - val_accuracy: 0.8630\n",
            "Epoch 84/100\n",
            "32/32 [==============================] - 1s 33ms/step - loss: 0.1271 - accuracy: 0.9465 - val_loss: 0.4814 - val_accuracy: 0.8995\n",
            "Epoch 85/100\n",
            "32/32 [==============================] - 1s 34ms/step - loss: 0.1208 - accuracy: 0.9492 - val_loss: 0.5253 - val_accuracy: 0.8813\n",
            "Epoch 86/100\n",
            "32/32 [==============================] - 1s 34ms/step - loss: 0.1165 - accuracy: 0.9520 - val_loss: 0.6541 - val_accuracy: 0.9087\n",
            "Epoch 87/100\n",
            "32/32 [==============================] - 1s 33ms/step - loss: 0.1486 - accuracy: 0.9401 - val_loss: 0.4936 - val_accuracy: 0.9132\n",
            "Epoch 88/100\n",
            "32/32 [==============================] - 1s 33ms/step - loss: 0.1258 - accuracy: 0.9445 - val_loss: 0.4707 - val_accuracy: 0.8950\n",
            "Epoch 89/100\n",
            "32/32 [==============================] - 1s 34ms/step - loss: 0.1574 - accuracy: 0.9325 - val_loss: 0.5310 - val_accuracy: 0.8995\n",
            "Epoch 90/100\n",
            "32/32 [==============================] - 1s 33ms/step - loss: 0.1265 - accuracy: 0.9599 - val_loss: 0.4069 - val_accuracy: 0.8950\n",
            "Epoch 91/100\n",
            "32/32 [==============================] - 1s 34ms/step - loss: 0.1253 - accuracy: 0.9479 - val_loss: 0.5491 - val_accuracy: 0.8950\n",
            "Epoch 92/100\n",
            "32/32 [==============================] - 1s 34ms/step - loss: 0.1087 - accuracy: 0.9628 - val_loss: 0.5337 - val_accuracy: 0.8721\n",
            "Epoch 93/100\n",
            "32/32 [==============================] - 1s 34ms/step - loss: 0.1069 - accuracy: 0.9538 - val_loss: 0.4284 - val_accuracy: 0.8950\n",
            "Epoch 94/100\n",
            "32/32 [==============================] - 1s 34ms/step - loss: 0.0822 - accuracy: 0.9720 - val_loss: 0.5610 - val_accuracy: 0.8813\n",
            "Epoch 95/100\n",
            "32/32 [==============================] - 1s 34ms/step - loss: 0.1126 - accuracy: 0.9500 - val_loss: 0.5657 - val_accuracy: 0.8904\n",
            "Epoch 96/100\n",
            "32/32 [==============================] - 1s 34ms/step - loss: 0.1037 - accuracy: 0.9598 - val_loss: 0.7023 - val_accuracy: 0.8721\n",
            "Epoch 97/100\n",
            "32/32 [==============================] - 1s 34ms/step - loss: 0.0823 - accuracy: 0.9641 - val_loss: 0.7411 - val_accuracy: 0.8676\n",
            "Epoch 98/100\n",
            "32/32 [==============================] - 1s 34ms/step - loss: 0.1044 - accuracy: 0.9564 - val_loss: 0.6377 - val_accuracy: 0.9087\n",
            "Epoch 99/100\n",
            "32/32 [==============================] - 1s 34ms/step - loss: 0.1159 - accuracy: 0.9551 - val_loss: 0.5186 - val_accuracy: 0.8858\n",
            "Epoch 100/100\n",
            "32/32 [==============================] - 1s 33ms/step - loss: 0.1048 - accuracy: 0.9564 - val_loss: 0.4941 - val_accuracy: 0.8813\n"
          ],
          "name": "stdout"
        }
      ]
    },
    {
      "cell_type": "code",
      "metadata": {
        "colab": {
          "base_uri": "https://localhost:8080/",
          "height": 295
        },
        "id": "uk8yndArUjpY",
        "outputId": "dbbf11f5-b93b-42e4-9a2b-a53c280705b8"
      },
      "source": [
        "plt.plot(hist_2.history['loss'],color='black')\n",
        "plt.plot(hist_2.history['val_loss'],color='blue')\n",
        "plt.title('Model loss')\n",
        "plt.ylabel('Loss')\n",
        "plt.xlabel('Epoch')\n",
        "plt.legend(['Train', 'Val'], loc='upper right')\n",
        "plt.show()"
      ],
      "execution_count": 29,
      "outputs": [
        {
          "output_type": "display_data",
          "data": {
            "image/png": "[encoded data removed]",
            "text/plain": [
              "<Figure size 432x288 with 1 Axes>"
            ]
          },
          "metadata": {
            "tags": [],
            "needs_background": "light"
          }
        }
      ]
    },
    {
      "cell_type": "code",
      "metadata": {
        "colab": {
          "base_uri": "https://localhost:8080/",
          "height": 295
        },
        "id": "h0UqXJxGU3m-",
        "outputId": "b0644177-9f69-48c4-84f4-7f0ca5a61810"
      },
      "source": [
        "plt.plot(hist_2.history['accuracy'],color='black')\n",
        "plt.plot(hist_2.history['val_accuracy'],color='blue')\n",
        "plt.title('Model accuracy')\n",
        "plt.ylabel('Accuracy')\n",
        "plt.xlabel('Epoch')\n",
        "plt.legend(['Train', 'Val'], loc='lower right')\n",
        "plt.show()"
      ],
      "execution_count": 30,
      "outputs": [
        {
          "output_type": "display_data",
          "data": {
            "image/png": "[encoded data removed]",
            "text/plain": [
              "<Figure size 432x288 with 1 Axes>"
            ]
          },
          "metadata": {
            "tags": [],
            "needs_background": "light"
          }
        }
      ]
    }
  ]
}