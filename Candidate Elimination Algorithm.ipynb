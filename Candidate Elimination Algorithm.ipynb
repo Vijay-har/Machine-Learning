{
  "nbformat": 4,
  "nbformat_minor": 0,
  "metadata": {
    "colab": {
      "name": "19BCE7306_ML_LAB-2.ipynb",
      "provenance": []
    },
    "kernelspec": {
      "name": "python3",
      "display_name": "Python 3"
    }
  },
  "cells": [
    {
      "cell_type": "markdown",
      "metadata": {
        "id": "WcSQZvMNsj8L"
      },
      "source": [
        "### ***CANDIDATE ELIMINATION ALGORITHM***"
      ]
    },
    {
      "cell_type": "code",
      "metadata": {
        "id": "EA6HPBj7oBws"
      },
      "source": [
        "import csv"
      ],
      "execution_count": 1,
      "outputs": []
    },
    {
      "cell_type": "markdown",
      "metadata": {
        "id": "NxmTNkmprhT1"
      },
      "source": [
        "**Loading Data From a CSV File**"
      ]
    },
    {
      "cell_type": "code",
      "metadata": {
        "id": "KKFl4HgVoQMp"
      },
      "source": [
        "with open(\"/content/EnjoySport (1).csv\") as f:\r\n",
        "  csv_file=csv.reader(f)\r\n",
        "  data=list(csv_file)"
      ],
      "execution_count": 6,
      "outputs": []
    },
    {
      "cell_type": "markdown",
      "metadata": {
        "id": "ybwza7-trtPT"
      },
      "source": [
        "**Separating Concept features From Target**"
      ]
    },
    {
      "cell_type": "code",
      "metadata": {
        "id": "OJyNmlIWor0C"
      },
      "source": [
        "Specific=data[1][:-1]\r\n",
        "General=[['?' for i in range(len(Specific))] for j in range(len(Specific))]"
      ],
      "execution_count": 14,
      "outputs": []
    },
    {
      "cell_type": "markdown",
      "metadata": {
        "id": "OKMgyYK_r3Ez"
      },
      "source": [
        "**Splitting Data into Separate DataFrame**"
      ]
    },
    {
      "cell_type": "code",
      "metadata": {
        "colab": {
          "base_uri": "https://localhost:8080/",
          "height": 0
        },
        "id": "8dXmcybGoygi",
        "outputId": "4fb8660d-9033-4765-eca7-2b024cfae8ab"
      },
      "source": [
        "for i in data:\r\n",
        "        if i[-1]==\"Yes\":\r\n",
        "            for j in range(len(Specific)):\r\n",
        "                if i[j]!=Specific[j]:\r\n",
        "                    Specific[j]='?'\r\n",
        "                    General[j][j]='?'\r\n",
        "        \r\n",
        "        elif i[-1]==\"No\":\r\n",
        "            for j in range(len(Specific)):\r\n",
        "                if i[j]!=Specific[j]:\r\n",
        "                    General[j][j]=Specific[j]\r\n",
        "                else:\r\n",
        "                    General[j][j]=\"?\"\r\n",
        "        print(\"\\nCandidate Elimination Algorithm\",data.index(i)+1)\r\n",
        "        print(Specific)\r\n",
        "        print(General)"
      ],
      "execution_count": 18,
      "outputs": [
        {
          "output_type": "stream",
          "text": [
            "\n",
            "Candidate Elimination Algorithm 1\n",
            "['Sunny', 'Warm', '?', 'Strong', '?', '?']\n",
            "[['Sunny', '?', '?', '?', '?', '?'], ['?', 'Warm', '?', '?', '?', '?'], ['?', '?', '?', '?', '?', '?'], ['?', '?', '?', '?', '?', '?'], ['?', '?', '?', '?', '?', '?'], ['?', '?', '?', '?', '?', '?']]\n",
            "\n",
            "Candidate Elimination Algorithm 2\n",
            "['Sunny', 'Warm', '?', 'Strong', '?', '?']\n",
            "[['Sunny', '?', '?', '?', '?', '?'], ['?', 'Warm', '?', '?', '?', '?'], ['?', '?', '?', '?', '?', '?'], ['?', '?', '?', '?', '?', '?'], ['?', '?', '?', '?', '?', '?'], ['?', '?', '?', '?', '?', '?']]\n",
            "\n",
            "Candidate Elimination Algorithm 3\n",
            "['Sunny', 'Warm', '?', 'Strong', '?', '?']\n",
            "[['Sunny', '?', '?', '?', '?', '?'], ['?', 'Warm', '?', '?', '?', '?'], ['?', '?', '?', '?', '?', '?'], ['?', '?', '?', '?', '?', '?'], ['?', '?', '?', '?', '?', '?'], ['?', '?', '?', '?', '?', '?']]\n",
            "\n",
            "Candidate Elimination Algorithm 4\n",
            "['Sunny', 'Warm', '?', 'Strong', '?', '?']\n",
            "[['Sunny', '?', '?', '?', '?', '?'], ['?', 'Warm', '?', '?', '?', '?'], ['?', '?', '?', '?', '?', '?'], ['?', '?', '?', '?', '?', '?'], ['?', '?', '?', '?', '?', '?'], ['?', '?', '?', '?', '?', '?']]\n"
          ],
          "name": "stdout"
        }
      ]
    },
    {
      "cell_type": "code",
      "metadata": {
        "id": "bu9GdpfJo6Ae"
      },
      "source": [
        "    General_Hypothesis=[]\r\n",
        "    for i in General:\r\n",
        "        for j in i:\r\n",
        "            if j!='?':\r\n",
        "                General_Hypothesis.append(i)\r\n",
        "                break"
      ],
      "execution_count": 16,
      "outputs": []
    },
    {
      "cell_type": "markdown",
      "metadata": {
        "id": "bF33f4BqsJDu"
      },
      "source": [
        "**Printing Specific and General Hypothesis**"
      ]
    },
    {
      "cell_type": "code",
      "metadata": {
        "colab": {
          "base_uri": "https://localhost:8080/",
          "height": 0
        },
        "id": "RDpi3egWo_1W",
        "outputId": "62d474c9-55a0-4afd-c6ff-d21386169c68"
      },
      "source": [
        "    print(\"\\nFinal specific hypothesis:\\n\",Specific)\r\n",
        "\r\n",
        "    print(\"\\nFinal general hypothesis:\\n\",General_Hypothesis)"
      ],
      "execution_count": 17,
      "outputs": [
        {
          "output_type": "stream",
          "text": [
            "\n",
            "Final specific hypothesis:\n",
            " ['Sunny', 'Warm', '?', 'Strong', '?', '?']\n",
            "\n",
            "Final general hypothesis:\n",
            " [['Sunny', '?', '?', '?', '?', '?'], ['?', 'Warm', '?', '?', '?', '?']]\n"
          ],
          "name": "stdout"
        }
      ]
    }
  ]
}