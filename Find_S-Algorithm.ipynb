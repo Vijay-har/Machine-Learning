{
  "nbformat": 4,
  "nbformat_minor": 0,
  "metadata": {
    "colab": {
      "name": "19BCE7306_ML_LAB-1.ipynb",
      "provenance": []
    },
    "kernelspec": {
      "name": "python3",
      "display_name": "Python 3"
    }
  },
  "cells": [
    {
      "cell_type": "markdown",
      "metadata": {
        "id": "hmcA4olUvfCB"
      },
      "source": [
        "**IMPLEMENTATION OF FIND-S ALGORITHM**"
      ]
    },
    {
      "cell_type": "code",
      "metadata": {
        "id": "DoNUT8R6sDsO"
      },
      "source": [
        "import csv"
      ],
      "execution_count": 1,
      "outputs": []
    },
    {
      "cell_type": "markdown",
      "metadata": {
        "id": "m2p4vx0zsRlr"
      },
      "source": [
        "**Printing the given Training Dataset:**"
      ]
    },
    {
      "cell_type": "code",
      "metadata": {
        "colab": {
          "base_uri": "https://localhost:8080/"
        },
        "id": "PV8_4YOtsbAU",
        "outputId": "8af7d934-1e99-4fe6-ef2f-64855491a142"
      },
      "source": [
        "num_attributes = 6\r\n",
        "a = []\r\n",
        "print(\"\\n The Given Training Data Set \\n\")\r\n",
        "with open('EnjoySport.csv', 'r') as csvfile:\r\n",
        "  reader = csv.reader(csvfile)\r\n",
        "  for row in reader:\r\n",
        "    a.append (row)\r\n",
        "    print(row)"
      ],
      "execution_count": 3,
      "outputs": [
        {
          "output_type": "stream",
          "text": [
            "\n",
            " The Given Training Data Set \n",
            "\n",
            "['Sunny', 'Warm', 'Normal', 'Strong', 'Warm', 'Same', 'Yes']\n",
            "['Sunny', 'Warm', 'High', 'Strong', 'Warm', 'Same', 'Yes']\n",
            "['Rainy', 'Cold', 'High', 'Strong', 'Warm', 'Change', 'No']\n",
            "['Sunny', 'Warm', 'High', 'Strong', 'Cool', 'Change', 'Yes']\n"
          ],
          "name": "stdout"
        }
      ]
    },
    {
      "cell_type": "markdown",
      "metadata": {
        "id": "8io_gHFHs1cB"
      },
      "source": [
        "**Printing the Initial Hypothesis Values**"
      ]
    },
    {
      "cell_type": "code",
      "metadata": {
        "colab": {
          "base_uri": "https://localhost:8080/"
        },
        "id": "DhYam6n3s79L",
        "outputId": "957ef7af-d3b1-4ae2-d998-a37869546525"
      },
      "source": [
        "print(\"\\n The initial value of hypothesis: \")\r\n",
        "hypothesis = ['0'] * num_attributes\r\n",
        "print(hypothesis)\r\n"
      ],
      "execution_count": 6,
      "outputs": [
        {
          "output_type": "stream",
          "text": [
            "\n",
            " The initial value of hypothesis: \n",
            "['0', '0', '0', '0', '0', '0']\n"
          ],
          "name": "stdout"
        }
      ]
    },
    {
      "cell_type": "markdown",
      "metadata": {
        "id": "XI3NW777tM6V"
      },
      "source": [
        "**Finding Maximally Specefic Hypothesis**"
      ]
    },
    {
      "cell_type": "code",
      "metadata": {
        "id": "zr_C0fKqtXeZ"
      },
      "source": [
        "for j in range(0,num_attributes):\r\n",
        "        hypothesis[j] = a[0][j];"
      ],
      "execution_count": 10,
      "outputs": []
    },
    {
      "cell_type": "code",
      "metadata": {
        "colab": {
          "base_uri": "https://localhost:8080/"
        },
        "id": "S-AApfzvterN",
        "outputId": "b9c5547d-97b8-4e16-d33e-8b2367dabf40"
      },
      "source": [
        "print(\"\\n Find S: Finding a Maximally Specific Hypothesis\\n\")\r\n",
        "\r\n",
        "for i in range(0,len(a)):\r\n",
        "    if a[i][num_attributes]=='Yes':\r\n",
        "            for j in range(0,num_attributes):\r\n",
        "                if a[i][j]!=hypothesis[j]:\r\n",
        "                    hypothesis[j]='?'\r\n",
        "                else :\r\n",
        "                    hypothesis[j]= a[i][j] \r\n",
        "    print(\" For Training Example No :{0} the hypothesis is \".format(i),hypothesis)"
      ],
      "execution_count": 13,
      "outputs": [
        {
          "output_type": "stream",
          "text": [
            "\n",
            " Find S: Finding a Maximally Specific Hypothesis\n",
            "\n",
            " For Training Example No :0 the hypothesis is  ['Sunny', 'Warm', 'Normal', 'Strong', 'Warm', 'Same']\n",
            " For Training Example No :1 the hypothesis is  ['Sunny', 'Warm', '?', 'Strong', 'Warm', 'Same']\n",
            " For Training Example No :2 the hypothesis is  ['Sunny', 'Warm', '?', 'Strong', 'Warm', 'Same']\n",
            " For Training Example No :3 the hypothesis is  ['Sunny', 'Warm', '?', 'Strong', '?', '?']\n"
          ],
          "name": "stdout"
        }
      ]
    },
    {
      "cell_type": "markdown",
      "metadata": {
        "id": "NDEG4B24wVTt"
      },
      "source": [
        "**OUTPUT:**"
      ]
    },
    {
      "cell_type": "code",
      "metadata": {
        "colab": {
          "base_uri": "https://localhost:8080/"
        },
        "id": "FLsdiayntntv",
        "outputId": "25865ff2-8da4-4de0-d028-11dd57891cf5"
      },
      "source": [
        "print(\"\\n The Maximally Specific Hypothesis for a given Training Examples :\\n\")\r\n",
        "print(hypothesis)\r\n"
      ],
      "execution_count": 12,
      "outputs": [
        {
          "output_type": "stream",
          "text": [
            "\n",
            " The Maximally Specific Hypothesis for a given Training Examples :\n",
            "\n",
            "['Sunny', 'Warm', 'Normal', 'Strong', 'Warm', 'Same']\n"
          ],
          "name": "stdout"
        }
      ]
    },
    {
      "cell_type": "markdown",
      "metadata": {
        "id": "e3Tx1GxMsNnc"
      },
      "source": [
        ""
      ]
    }
  ]
}