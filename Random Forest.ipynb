{
  "nbformat": 4,
  "nbformat_minor": 0,
  "metadata": {
    "colab": {
      "name": "19BCE7306_ML_LAB_4.ipynb",
      "provenance": []
    },
    "kernelspec": {
      "name": "python3",
      "display_name": "Python 3"
    }
  },
  "cells": [
    {
      "cell_type": "markdown",
      "metadata": {
        "id": "lV-1TG9lzQqB"
      },
      "source": [
        "# **RANDOM FOREST ALGORITHM**"
      ]
    },
    {
      "cell_type": "markdown",
      "metadata": {
        "id": "2322wnrez0ki"
      },
      "source": [
        "**Importing Libraries**"
      ]
    },
    {
      "cell_type": "code",
      "metadata": {
        "id": "spWsB3U9tPIP"
      },
      "source": [
        "import numpy as np \r\n",
        "import matplotlib.pyplot as plt \r\n",
        "import pandas as pd "
      ],
      "execution_count": 1,
      "outputs": []
    },
    {
      "cell_type": "markdown",
      "metadata": {
        "id": "akHWngiCzxcG"
      },
      "source": [
        "**Printing the dataset**"
      ]
    },
    {
      "cell_type": "code",
      "metadata": {
        "colab": {
          "base_uri": "https://localhost:8080/"
        },
        "id": "vCAweLFWtWYY",
        "outputId": "21874d60-ce99-49ed-97fe-d63cb4ee7765"
      },
      "source": [
        "data = pd.read_csv('/content/Salary_Data.csv') \r\n",
        "print(data) "
      ],
      "execution_count": 37,
      "outputs": [
        {
          "output_type": "stream",
          "text": [
            "    YearsExperience  Salary\n",
            "0                 1   39343\n",
            "1                 1   46205\n",
            "2                 3   37731\n",
            "3                 4   43525\n",
            "4                 5   39891\n",
            "5                 6   56642\n",
            "6                 7   60150\n",
            "7                 8   54445\n",
            "8                 8   64445\n",
            "9                 8   57189\n",
            "10                9   63218\n",
            "11                9   55794\n",
            "12               10   56957\n"
          ],
          "name": "stdout"
        }
      ]
    },
    {
      "cell_type": "markdown",
      "metadata": {
        "id": "CGC1HU1t0_GR"
      },
      "source": [
        "**Selecting Rows and Coloumns**"
      ]
    },
    {
      "cell_type": "code",
      "metadata": {
        "colab": {
          "base_uri": "https://localhost:8080/"
        },
        "id": "TJsCpeJCtgO_",
        "outputId": "1c3705fa-4bf9-4ab8-ee5a-4dd196ec197f"
      },
      "source": [
        "x = data.iloc[:, 0:1].values  \r\n",
        "print(x) \r\n",
        "y = data.iloc[:, 1].values "
      ],
      "execution_count": 38,
      "outputs": [
        {
          "output_type": "stream",
          "text": [
            "[[ 1]\n",
            " [ 1]\n",
            " [ 3]\n",
            " [ 4]\n",
            " [ 5]\n",
            " [ 6]\n",
            " [ 7]\n",
            " [ 8]\n",
            " [ 8]\n",
            " [ 8]\n",
            " [ 9]\n",
            " [ 9]\n",
            " [10]]\n"
          ],
          "name": "stdout"
        }
      ]
    },
    {
      "cell_type": "code",
      "metadata": {
        "colab": {
          "base_uri": "https://localhost:8080/"
        },
        "id": "UlM_I1wVt1Yc",
        "outputId": "9e6041e0-387c-461d-91b2-c958b1adb9b8"
      },
      "source": [
        "print(y)"
      ],
      "execution_count": 39,
      "outputs": [
        {
          "output_type": "stream",
          "text": [
            "[39343 46205 37731 43525 39891 56642 60150 54445 64445 57189 63218 55794\n",
            " 56957]\n"
          ],
          "name": "stdout"
        }
      ]
    },
    {
      "cell_type": "markdown",
      "metadata": {
        "id": "fOllO3wc0Q9_"
      },
      "source": [
        "**Fitting Random Forest regressor to the DataSet**"
      ]
    },
    {
      "cell_type": "code",
      "metadata": {
        "colab": {
          "base_uri": "https://localhost:8080/"
        },
        "id": "tSkC7muNuI-k",
        "outputId": "52da3720-fe03-4f9d-9f3b-75d60d6d70fc"
      },
      "source": [
        "from sklearn.ensemble import RandomForestRegressor \r\n",
        "regressor = RandomForestRegressor(n_estimators = 100, random_state = 0) \r\n",
        "regressor.fit(x, y)"
      ],
      "execution_count": 40,
      "outputs": [
        {
          "output_type": "execute_result",
          "data": {
            "text/plain": [
              "RandomForestRegressor(bootstrap=True, ccp_alpha=0.0, criterion='mse',\n",
              "                      max_depth=None, max_features='auto', max_leaf_nodes=None,\n",
              "                      max_samples=None, min_impurity_decrease=0.0,\n",
              "                      min_impurity_split=None, min_samples_leaf=1,\n",
              "                      min_samples_split=2, min_weight_fraction_leaf=0.0,\n",
              "                      n_estimators=100, n_jobs=None, oob_score=False,\n",
              "                      random_state=0, verbose=0, warm_start=False)"
            ]
          },
          "metadata": {
            "tags": []
          },
          "execution_count": 40
        }
      ]
    },
    {
      "cell_type": "markdown",
      "metadata": {
        "id": "8bq2MJGh0l3U"
      },
      "source": [
        "**Predicting a new Result**"
      ]
    },
    {
      "cell_type": "code",
      "metadata": {
        "id": "rROLh-w9utcX"
      },
      "source": [
        "Y_pred = regressor.predict(np.array([8.9]).reshape(1,-1))"
      ],
      "execution_count": 73,
      "outputs": []
    },
    {
      "cell_type": "markdown",
      "metadata": {
        "id": "kjH66Tc90r0R"
      },
      "source": [
        "**Visualising the result**"
      ]
    },
    {
      "cell_type": "code",
      "metadata": {
        "colab": {
          "base_uri": "https://localhost:8080/",
          "height": 295
        },
        "id": "GUYsPjO4u1Uc",
        "outputId": "39cccee4-b1c4-4871-9c52-08c4e6d76577"
      },
      "source": [
        "X_grid = np.arange(min(x), max(x),0.01)  \r\n",
        "X_grid = X_grid.reshape((len(X_grid), 1)) \r\n",
        "plt.scatter(x, y, color = 'blue') \r\n",
        "plt.plot(X_grid, regressor.predict(X_grid),  \r\n",
        "         color = 'green') \r\n",
        "plt.title('Random Forest Regression') \r\n",
        "plt.xlabel('Position level') \r\n",
        "plt.ylabel('Salary') \r\n",
        "plt.show()\r\n"
      ],
      "execution_count": 77,
      "outputs": [
        {
          "output_type": "display_data",
          "data": {
            "image/png": "[encoded data removed]",
            "text/plain": [
              "<Figure size 432x288 with 1 Axes>"
            ]
          },
          "metadata": {
            "tags": [],
            "needs_background": "light"
          }
        }
      ]
    }
  ]
}